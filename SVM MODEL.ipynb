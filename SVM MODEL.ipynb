{
 "cells": [
  {
   "cell_type": "code",
   "execution_count": 47,
   "id": "2b269ffa",
   "metadata": {},
   "outputs": [],
   "source": [
    "\n",
    "import pandas as pd\n",
    "from sklearn.model_selection import train_test_split, cross_val_score\n",
    "from sklearn.preprocessing import StandardScaler, LabelEncoder\n",
    "from sklearn.svm import SVC\n",
    "from sklearn.metrics import accuracy_score, precision_score, recall_score, f1_score, confusion_matrix\n",
    "import time\n",
    "import numpy as np\n",
    "import seaborn as sns\n",
    "import matplotlib.pyplot as plt"
   ]
  },
  {
   "cell_type": "code",
   "execution_count": 48,
   "id": "f37c634f",
   "metadata": {},
   "outputs": [],
   "source": [
    "# Load the data from the CSV file\n",
    "file_path = r'C:\\Users\\Suliat\\Documents\\Dataset\\Project Code\\wustl-ehms-2020_with_attacks_categories.csv'\n",
    "data = pd.read_csv(file_path)"
   ]
  },
  {
   "cell_type": "code",
   "execution_count": 49,
   "id": "703ddc7c",
   "metadata": {},
   "outputs": [
    {
     "data": {
      "text/html": [
       "<div>\n",
       "<style scoped>\n",
       "    .dataframe tbody tr th:only-of-type {\n",
       "        vertical-align: middle;\n",
       "    }\n",
       "\n",
       "    .dataframe tbody tr th {\n",
       "        vertical-align: top;\n",
       "    }\n",
       "\n",
       "    .dataframe thead th {\n",
       "        text-align: right;\n",
       "    }\n",
       "</style>\n",
       "<table border=\"1\" class=\"dataframe\">\n",
       "  <thead>\n",
       "    <tr style=\"text-align: right;\">\n",
       "      <th></th>\n",
       "      <th>Dport</th>\n",
       "      <th>SrcBytes</th>\n",
       "      <th>DstBytes</th>\n",
       "      <th>SrcLoad</th>\n",
       "      <th>DstLoad</th>\n",
       "      <th>SrcGap</th>\n",
       "      <th>DstGap</th>\n",
       "      <th>SIntPkt</th>\n",
       "      <th>DIntPkt</th>\n",
       "      <th>SIntPktAct</th>\n",
       "      <th>...</th>\n",
       "      <th>Packet_num</th>\n",
       "      <th>Temp</th>\n",
       "      <th>SpO2</th>\n",
       "      <th>Pulse_Rate</th>\n",
       "      <th>SYS</th>\n",
       "      <th>DIA</th>\n",
       "      <th>Heart_rate</th>\n",
       "      <th>Resp_Rate</th>\n",
       "      <th>ST</th>\n",
       "      <th>Label</th>\n",
       "    </tr>\n",
       "  </thead>\n",
       "  <tbody>\n",
       "    <tr>\n",
       "      <th>count</th>\n",
       "      <td>16318.0</td>\n",
       "      <td>16318.000000</td>\n",
       "      <td>16318.000000</td>\n",
       "      <td>1.631800e+04</td>\n",
       "      <td>1.631800e+04</td>\n",
       "      <td>16318.0</td>\n",
       "      <td>16318.0</td>\n",
       "      <td>16318.000000</td>\n",
       "      <td>16318.000000</td>\n",
       "      <td>16318.000000</td>\n",
       "      <td>...</td>\n",
       "      <td>16318.000000</td>\n",
       "      <td>16318.000000</td>\n",
       "      <td>16318.000000</td>\n",
       "      <td>16318.000000</td>\n",
       "      <td>16318.000000</td>\n",
       "      <td>16318.000000</td>\n",
       "      <td>16318.000000</td>\n",
       "      <td>16318.000000</td>\n",
       "      <td>16318.000000</td>\n",
       "      <td>16318.000000</td>\n",
       "    </tr>\n",
       "    <tr>\n",
       "      <th>mean</th>\n",
       "      <td>1111.0</td>\n",
       "      <td>496.650264</td>\n",
       "      <td>187.077706</td>\n",
       "      <td>2.118406e+05</td>\n",
       "      <td>7.102435e+04</td>\n",
       "      <td>0.0</td>\n",
       "      <td>0.0</td>\n",
       "      <td>10.946755</td>\n",
       "      <td>8.515423</td>\n",
       "      <td>1.286918</td>\n",
       "      <td>...</td>\n",
       "      <td>8156.308800</td>\n",
       "      <td>26.906815</td>\n",
       "      <td>97.808861</td>\n",
       "      <td>76.723741</td>\n",
       "      <td>142.846611</td>\n",
       "      <td>80.094190</td>\n",
       "      <td>75.443927</td>\n",
       "      <td>19.695551</td>\n",
       "      <td>0.258007</td>\n",
       "      <td>0.125383</td>\n",
       "    </tr>\n",
       "    <tr>\n",
       "      <th>std</th>\n",
       "      <td>0.0</td>\n",
       "      <td>28.584642</td>\n",
       "      <td>18.688525</td>\n",
       "      <td>7.942988e+04</td>\n",
       "      <td>4.530811e+04</td>\n",
       "      <td>0.0</td>\n",
       "      <td>0.0</td>\n",
       "      <td>101.230484</td>\n",
       "      <td>52.504560</td>\n",
       "      <td>62.123452</td>\n",
       "      <td>...</td>\n",
       "      <td>4709.735634</td>\n",
       "      <td>0.919766</td>\n",
       "      <td>1.496269</td>\n",
       "      <td>7.431914</td>\n",
       "      <td>8.493933</td>\n",
       "      <td>6.125289</td>\n",
       "      <td>6.609102</td>\n",
       "      <td>7.325856</td>\n",
       "      <td>0.103980</td>\n",
       "      <td>0.331163</td>\n",
       "    </tr>\n",
       "    <tr>\n",
       "      <th>min</th>\n",
       "      <td>1111.0</td>\n",
       "      <td>310.000000</td>\n",
       "      <td>120.000000</td>\n",
       "      <td>0.000000e+00</td>\n",
       "      <td>5.074470e+02</td>\n",
       "      <td>0.0</td>\n",
       "      <td>0.0</td>\n",
       "      <td>0.875000</td>\n",
       "      <td>0.730500</td>\n",
       "      <td>0.000000</td>\n",
       "      <td>...</td>\n",
       "      <td>1.000000</td>\n",
       "      <td>23.600000</td>\n",
       "      <td>0.000000</td>\n",
       "      <td>0.000000</td>\n",
       "      <td>0.000000</td>\n",
       "      <td>0.000000</td>\n",
       "      <td>0.000000</td>\n",
       "      <td>0.000000</td>\n",
       "      <td>-0.300000</td>\n",
       "      <td>0.000000</td>\n",
       "    </tr>\n",
       "    <tr>\n",
       "      <th>25%</th>\n",
       "      <td>1111.0</td>\n",
       "      <td>496.000000</td>\n",
       "      <td>186.000000</td>\n",
       "      <td>1.990535e+05</td>\n",
       "      <td>6.635500e+04</td>\n",
       "      <td>0.0</td>\n",
       "      <td>0.0</td>\n",
       "      <td>3.792667</td>\n",
       "      <td>2.226000</td>\n",
       "      <td>0.000000</td>\n",
       "      <td>...</td>\n",
       "      <td>4077.250000</td>\n",
       "      <td>26.600000</td>\n",
       "      <td>98.000000</td>\n",
       "      <td>73.000000</td>\n",
       "      <td>142.000000</td>\n",
       "      <td>76.000000</td>\n",
       "      <td>73.000000</td>\n",
       "      <td>18.000000</td>\n",
       "      <td>0.200000</td>\n",
       "      <td>0.000000</td>\n",
       "    </tr>\n",
       "    <tr>\n",
       "      <th>50%</th>\n",
       "      <td>1111.0</td>\n",
       "      <td>496.000000</td>\n",
       "      <td>186.000000</td>\n",
       "      <td>2.366790e+05</td>\n",
       "      <td>7.889300e+04</td>\n",
       "      <td>0.0</td>\n",
       "      <td>0.0</td>\n",
       "      <td>4.191333</td>\n",
       "      <td>2.562250</td>\n",
       "      <td>0.000000</td>\n",
       "      <td>...</td>\n",
       "      <td>8156.500000</td>\n",
       "      <td>27.000000</td>\n",
       "      <td>98.000000</td>\n",
       "      <td>73.000000</td>\n",
       "      <td>144.000000</td>\n",
       "      <td>83.000000</td>\n",
       "      <td>73.000000</td>\n",
       "      <td>19.000000</td>\n",
       "      <td>0.300000</td>\n",
       "      <td>0.000000</td>\n",
       "    </tr>\n",
       "    <tr>\n",
       "      <th>75%</th>\n",
       "      <td>1111.0</td>\n",
       "      <td>496.000000</td>\n",
       "      <td>186.000000</td>\n",
       "      <td>2.615570e+05</td>\n",
       "      <td>8.719300e+04</td>\n",
       "      <td>0.0</td>\n",
       "      <td>0.0</td>\n",
       "      <td>4.984167</td>\n",
       "      <td>3.136375</td>\n",
       "      <td>0.000000</td>\n",
       "      <td>...</td>\n",
       "      <td>12234.750000</td>\n",
       "      <td>27.600000</td>\n",
       "      <td>98.000000</td>\n",
       "      <td>79.000000</td>\n",
       "      <td>148.000000</td>\n",
       "      <td>84.000000</td>\n",
       "      <td>79.000000</td>\n",
       "      <td>24.000000</td>\n",
       "      <td>0.300000</td>\n",
       "      <td>0.000000</td>\n",
       "    </tr>\n",
       "    <tr>\n",
       "      <th>max</th>\n",
       "      <td>1111.0</td>\n",
       "      <td>2298.000000</td>\n",
       "      <td>882.000000</td>\n",
       "      <td>1.134000e+06</td>\n",
       "      <td>3.938000e+06</td>\n",
       "      <td>0.0</td>\n",
       "      <td>0.0</td>\n",
       "      <td>9497.338000</td>\n",
       "      <td>2445.732000</td>\n",
       "      <td>3002.812000</td>\n",
       "      <td>...</td>\n",
       "      <td>16314.000000</td>\n",
       "      <td>29.200000</td>\n",
       "      <td>100.000000</td>\n",
       "      <td>194.000000</td>\n",
       "      <td>149.000000</td>\n",
       "      <td>95.000000</td>\n",
       "      <td>119.000000</td>\n",
       "      <td>73.000000</td>\n",
       "      <td>1.000000</td>\n",
       "      <td>1.000000</td>\n",
       "    </tr>\n",
       "  </tbody>\n",
       "</table>\n",
       "<p>8 rows × 37 columns</p>\n",
       "</div>"
      ],
      "text/plain": [
       "         Dport      SrcBytes      DstBytes       SrcLoad       DstLoad  \\\n",
       "count  16318.0  16318.000000  16318.000000  1.631800e+04  1.631800e+04   \n",
       "mean    1111.0    496.650264    187.077706  2.118406e+05  7.102435e+04   \n",
       "std        0.0     28.584642     18.688525  7.942988e+04  4.530811e+04   \n",
       "min     1111.0    310.000000    120.000000  0.000000e+00  5.074470e+02   \n",
       "25%     1111.0    496.000000    186.000000  1.990535e+05  6.635500e+04   \n",
       "50%     1111.0    496.000000    186.000000  2.366790e+05  7.889300e+04   \n",
       "75%     1111.0    496.000000    186.000000  2.615570e+05  8.719300e+04   \n",
       "max     1111.0   2298.000000    882.000000  1.134000e+06  3.938000e+06   \n",
       "\n",
       "        SrcGap   DstGap       SIntPkt       DIntPkt    SIntPktAct  ...  \\\n",
       "count  16318.0  16318.0  16318.000000  16318.000000  16318.000000  ...   \n",
       "mean       0.0      0.0     10.946755      8.515423      1.286918  ...   \n",
       "std        0.0      0.0    101.230484     52.504560     62.123452  ...   \n",
       "min        0.0      0.0      0.875000      0.730500      0.000000  ...   \n",
       "25%        0.0      0.0      3.792667      2.226000      0.000000  ...   \n",
       "50%        0.0      0.0      4.191333      2.562250      0.000000  ...   \n",
       "75%        0.0      0.0      4.984167      3.136375      0.000000  ...   \n",
       "max        0.0      0.0   9497.338000   2445.732000   3002.812000  ...   \n",
       "\n",
       "         Packet_num          Temp          SpO2    Pulse_Rate           SYS  \\\n",
       "count  16318.000000  16318.000000  16318.000000  16318.000000  16318.000000   \n",
       "mean    8156.308800     26.906815     97.808861     76.723741    142.846611   \n",
       "std     4709.735634      0.919766      1.496269      7.431914      8.493933   \n",
       "min        1.000000     23.600000      0.000000      0.000000      0.000000   \n",
       "25%     4077.250000     26.600000     98.000000     73.000000    142.000000   \n",
       "50%     8156.500000     27.000000     98.000000     73.000000    144.000000   \n",
       "75%    12234.750000     27.600000     98.000000     79.000000    148.000000   \n",
       "max    16314.000000     29.200000    100.000000    194.000000    149.000000   \n",
       "\n",
       "                DIA    Heart_rate     Resp_Rate            ST         Label  \n",
       "count  16318.000000  16318.000000  16318.000000  16318.000000  16318.000000  \n",
       "mean      80.094190     75.443927     19.695551      0.258007      0.125383  \n",
       "std        6.125289      6.609102      7.325856      0.103980      0.331163  \n",
       "min        0.000000      0.000000      0.000000     -0.300000      0.000000  \n",
       "25%       76.000000     73.000000     18.000000      0.200000      0.000000  \n",
       "50%       83.000000     73.000000     19.000000      0.300000      0.000000  \n",
       "75%       84.000000     79.000000     24.000000      0.300000      0.000000  \n",
       "max       95.000000    119.000000     73.000000      1.000000      1.000000  \n",
       "\n",
       "[8 rows x 37 columns]"
      ]
     },
     "execution_count": 49,
     "metadata": {},
     "output_type": "execute_result"
    }
   ],
   "source": [
    "data.describe()"
   ]
  },
  {
   "cell_type": "code",
   "execution_count": null,
   "id": "6c8344f1",
   "metadata": {},
   "outputs": [],
   "source": []
  },
  {
   "cell_type": "code",
   "execution_count": 50,
   "id": "896f2770",
   "metadata": {},
   "outputs": [
    {
     "name": "stdout",
     "output_type": "stream",
     "text": [
      "<class 'pandas.core.frame.DataFrame'>\n",
      "RangeIndex: 16318 entries, 0 to 16317\n",
      "Data columns (total 45 columns):\n",
      " #   Column           Non-Null Count  Dtype  \n",
      "---  ------           --------------  -----  \n",
      " 0   Dir              16318 non-null  object \n",
      " 1   Flgs             16318 non-null  object \n",
      " 2   SrcAddr          16318 non-null  object \n",
      " 3   DstAddr          16318 non-null  object \n",
      " 4   Sport            16318 non-null  object \n",
      " 5   Dport            16318 non-null  int64  \n",
      " 6   SrcBytes         16318 non-null  int64  \n",
      " 7   DstBytes         16318 non-null  int64  \n",
      " 8   SrcLoad          16318 non-null  float64\n",
      " 9   DstLoad          16318 non-null  float64\n",
      " 10  SrcGap           16318 non-null  int64  \n",
      " 11  DstGap           16318 non-null  int64  \n",
      " 12  SIntPkt          16318 non-null  float64\n",
      " 13  DIntPkt          16318 non-null  float64\n",
      " 14  SIntPktAct       16318 non-null  float64\n",
      " 15  DIntPktAct       16318 non-null  int64  \n",
      " 16  SrcJitter        16318 non-null  float64\n",
      " 17  DstJitter        16318 non-null  float64\n",
      " 18  sMaxPktSz        16318 non-null  int64  \n",
      " 19  dMaxPktSz        16318 non-null  int64  \n",
      " 20  sMinPktSz        16318 non-null  int64  \n",
      " 21  dMinPktSz        16318 non-null  int64  \n",
      " 22  Dur              16318 non-null  float64\n",
      " 23  Trans            16318 non-null  int64  \n",
      " 24  TotPkts          16318 non-null  int64  \n",
      " 25  TotBytes         16318 non-null  int64  \n",
      " 26  Load             16318 non-null  float64\n",
      " 27  Loss             16318 non-null  int64  \n",
      " 28  pLoss            16318 non-null  float64\n",
      " 29  pSrcLoss         16318 non-null  float64\n",
      " 30  pDstLoss         16318 non-null  float64\n",
      " 31  Rate             16318 non-null  float64\n",
      " 32  SrcMac           16318 non-null  object \n",
      " 33  DstMac           16318 non-null  object \n",
      " 34  Packet_num       16318 non-null  int64  \n",
      " 35  Temp             16318 non-null  float64\n",
      " 36  SpO2             16318 non-null  int64  \n",
      " 37  Pulse_Rate       16318 non-null  int64  \n",
      " 38  SYS              16318 non-null  int64  \n",
      " 39  DIA              16318 non-null  int64  \n",
      " 40  Heart_rate       16318 non-null  int64  \n",
      " 41  Resp_Rate        16318 non-null  int64  \n",
      " 42  ST               16318 non-null  float64\n",
      " 43  Attack Category  16318 non-null  object \n",
      " 44  Label            16318 non-null  int64  \n",
      "dtypes: float64(15), int64(22), object(8)\n",
      "memory usage: 5.6+ MB\n"
     ]
    },
    {
     "data": {
      "text/plain": [
       "(     Dir        Flgs     SrcAddr     DstAddr  Sport  Dport  SrcBytes  \\\n",
       " 0     ->   e          10.0.1.172  10.0.1.150  58059   1111       496   \n",
       " 1     ->   e          10.0.1.172  10.0.1.150  58062   1111       496   \n",
       " 2     ->   e          10.0.1.172  10.0.1.150  58065   1111       496   \n",
       " 3     ->   e          10.0.1.172  10.0.1.150  58067   1111       496   \n",
       " 4     ->   e          10.0.1.172  10.0.1.150  58069   1111       496   \n",
       " \n",
       "    DstBytes   SrcLoad  DstLoad  ...  Temp  SpO2  Pulse_Rate  SYS  DIA  \\\n",
       " 0       186  276914.0  92305.0  ...  28.9     0           0    0    0   \n",
       " 1       186  230984.0  76995.0  ...  28.9     0           0    0    0   \n",
       " 2       186  218470.0  72823.0  ...  28.9    89         104    0    0   \n",
       " 3       186  203376.0  67792.0  ...  28.9    89         104    0    0   \n",
       " 4       186  235723.0  78574.0  ...  28.9    89         101    0    0   \n",
       " \n",
       "    Heart_rate  Resp_Rate   ST  Attack Category  Label  \n",
       " 0           0          0  0.0           normal      0  \n",
       " 1          78         17  0.4           normal      0  \n",
       " 2          78         17  0.4           normal      0  \n",
       " 3          79         17  0.4           normal      0  \n",
       " 4          79         17  0.4           normal      0  \n",
       " \n",
       " [5 rows x 45 columns],\n",
       " None)"
      ]
     },
     "execution_count": 50,
     "metadata": {},
     "output_type": "execute_result"
    }
   ],
   "source": [
    "# Display the first few rows of the dataset and a summary of the data\n",
    "data_head = data.head()\n",
    "data_info = data.info()\n",
    "data_head, data_info\n"
   ]
  },
  {
   "cell_type": "code",
   "execution_count": 51,
   "id": "ff75ca8c",
   "metadata": {},
   "outputs": [],
   "source": [
    "from sklearn.model_selection import train_test_split\n",
    "from sklearn.preprocessing import StandardScaler, LabelEncoder\n",
    "from sklearn import svm"
   ]
  },
  {
   "cell_type": "code",
   "execution_count": 52,
   "id": "c59978f1",
   "metadata": {},
   "outputs": [],
   "source": [
    "# Selecting a subset of features for simplicity and demonstration\n",
    "# Using both biometric data and some network features for classification\n",
    "selected_features = ['SrcBytes', 'DstBytes', 'SrcLoad', 'DstLoad', 'Dur', 'TotPkts', 'TotBytes', 'Load', 'Rate', \n",
    "                     'Temp', 'SpO2', 'Pulse_Rate', 'SYS', 'DIA', 'Heart_rate', 'Resp_Rate', 'ST', 'Label']"
   ]
  },
  {
   "cell_type": "code",
   "execution_count": 58,
   "id": "c2ca64fe",
   "metadata": {},
   "outputs": [],
   "source": [
    "# Filter the dataset to selected features\n",
    "filtered_data = data[selected_features]"
   ]
  },
  {
   "cell_type": "code",
   "execution_count": null,
   "id": "0a9de893",
   "metadata": {},
   "outputs": [],
   "source": []
  },
  {
   "cell_type": "code",
   "execution_count": 59,
   "id": "55534d59",
   "metadata": {},
   "outputs": [],
   "source": [
    "# Normalize the numerical features\n",
    "scaler = StandardScaler()\n",
    "features = filtered_data.drop('Label', axis=1)\n",
    "labels = filtered_data['Label']\n",
    "features_scaled = scaler.fit_transform(features)"
   ]
  },
  {
   "cell_type": "code",
   "execution_count": 60,
   "id": "17c0bb96",
   "metadata": {},
   "outputs": [],
   "source": [
    "# Split the data into training 80% and testing 20% sets\n",
    "X_train, X_test, y_train, y_test = train_test_split(features_scaled, labels, test_size=0.2, random_state=42)"
   ]
  },
  {
   "cell_type": "code",
   "execution_count": 61,
   "id": "f004fb87",
   "metadata": {},
   "outputs": [],
   "source": [
    "# Create and configure the SVM model\n",
    "svm_model = svm.SVC(kernel='rbf')"
   ]
  },
  {
   "cell_type": "code",
   "execution_count": 62,
   "id": "fb288f41",
   "metadata": {},
   "outputs": [],
   "source": [
    "# Perform 5-fold cross-validation\n",
    "cv_scores = cross_val_score(svm_model, features_scaled, labels, cv=5)"
   ]
  },
  {
   "cell_type": "code",
   "execution_count": 64,
   "id": "11ab8df0",
   "metadata": {},
   "outputs": [
    {
     "name": "stdout",
     "output_type": "stream",
     "text": [
      "Cross-validation scores for each fold:  [0.89675245 0.92830882 0.93903186 0.92552865 0.91786699]\n",
      "Mean cross-validation score:  0.9214977570862853\n",
      "Standard deviation of cross-validation scores:  0.014110961981665962\n"
     ]
    }
   ],
   "source": [
    "# Print the cross-validation scores\n",
    "print(\"Cross-validation scores for each fold: \", cv_scores)\n",
    "print(\"Mean cross-validation score: \", cv_scores.mean())\n",
    "print(\"Standard deviation of cross-validation scores: \", cv_scores.std())"
   ]
  },
  {
   "cell_type": "code",
   "execution_count": 65,
   "id": "d1a98e3e",
   "metadata": {},
   "outputs": [
    {
     "data": {
      "text/html": [
       "<style>#sk-container-id-4 {color: black;background-color: white;}#sk-container-id-4 pre{padding: 0;}#sk-container-id-4 div.sk-toggleable {background-color: white;}#sk-container-id-4 label.sk-toggleable__label {cursor: pointer;display: block;width: 100%;margin-bottom: 0;padding: 0.3em;box-sizing: border-box;text-align: center;}#sk-container-id-4 label.sk-toggleable__label-arrow:before {content: \"▸\";float: left;margin-right: 0.25em;color: #696969;}#sk-container-id-4 label.sk-toggleable__label-arrow:hover:before {color: black;}#sk-container-id-4 div.sk-estimator:hover label.sk-toggleable__label-arrow:before {color: black;}#sk-container-id-4 div.sk-toggleable__content {max-height: 0;max-width: 0;overflow: hidden;text-align: left;background-color: #f0f8ff;}#sk-container-id-4 div.sk-toggleable__content pre {margin: 0.2em;color: black;border-radius: 0.25em;background-color: #f0f8ff;}#sk-container-id-4 input.sk-toggleable__control:checked~div.sk-toggleable__content {max-height: 200px;max-width: 100%;overflow: auto;}#sk-container-id-4 input.sk-toggleable__control:checked~label.sk-toggleable__label-arrow:before {content: \"▾\";}#sk-container-id-4 div.sk-estimator input.sk-toggleable__control:checked~label.sk-toggleable__label {background-color: #d4ebff;}#sk-container-id-4 div.sk-label input.sk-toggleable__control:checked~label.sk-toggleable__label {background-color: #d4ebff;}#sk-container-id-4 input.sk-hidden--visually {border: 0;clip: rect(1px 1px 1px 1px);clip: rect(1px, 1px, 1px, 1px);height: 1px;margin: -1px;overflow: hidden;padding: 0;position: absolute;width: 1px;}#sk-container-id-4 div.sk-estimator {font-family: monospace;background-color: #f0f8ff;border: 1px dotted black;border-radius: 0.25em;box-sizing: border-box;margin-bottom: 0.5em;}#sk-container-id-4 div.sk-estimator:hover {background-color: #d4ebff;}#sk-container-id-4 div.sk-parallel-item::after {content: \"\";width: 100%;border-bottom: 1px solid gray;flex-grow: 1;}#sk-container-id-4 div.sk-label:hover label.sk-toggleable__label {background-color: #d4ebff;}#sk-container-id-4 div.sk-serial::before {content: \"\";position: absolute;border-left: 1px solid gray;box-sizing: border-box;top: 0;bottom: 0;left: 50%;z-index: 0;}#sk-container-id-4 div.sk-serial {display: flex;flex-direction: column;align-items: center;background-color: white;padding-right: 0.2em;padding-left: 0.2em;position: relative;}#sk-container-id-4 div.sk-item {position: relative;z-index: 1;}#sk-container-id-4 div.sk-parallel {display: flex;align-items: stretch;justify-content: center;background-color: white;position: relative;}#sk-container-id-4 div.sk-item::before, #sk-container-id-4 div.sk-parallel-item::before {content: \"\";position: absolute;border-left: 1px solid gray;box-sizing: border-box;top: 0;bottom: 0;left: 50%;z-index: -1;}#sk-container-id-4 div.sk-parallel-item {display: flex;flex-direction: column;z-index: 1;position: relative;background-color: white;}#sk-container-id-4 div.sk-parallel-item:first-child::after {align-self: flex-end;width: 50%;}#sk-container-id-4 div.sk-parallel-item:last-child::after {align-self: flex-start;width: 50%;}#sk-container-id-4 div.sk-parallel-item:only-child::after {width: 0;}#sk-container-id-4 div.sk-dashed-wrapped {border: 1px dashed gray;margin: 0 0.4em 0.5em 0.4em;box-sizing: border-box;padding-bottom: 0.4em;background-color: white;}#sk-container-id-4 div.sk-label label {font-family: monospace;font-weight: bold;display: inline-block;line-height: 1.2em;}#sk-container-id-4 div.sk-label-container {text-align: center;}#sk-container-id-4 div.sk-container {/* jupyter's `normalize.less` sets `[hidden] { display: none; }` but bootstrap.min.css set `[hidden] { display: none !important; }` so we also need the `!important` here to be able to override the default hidden behavior on the sphinx rendered scikit-learn.org. See: https://github.com/scikit-learn/scikit-learn/issues/21755 */display: inline-block !important;position: relative;}#sk-container-id-4 div.sk-text-repr-fallback {display: none;}</style><div id=\"sk-container-id-4\" class=\"sk-top-container\"><div class=\"sk-text-repr-fallback\"><pre>SVC()</pre><b>In a Jupyter environment, please rerun this cell to show the HTML representation or trust the notebook. <br />On GitHub, the HTML representation is unable to render, please try loading this page with nbviewer.org.</b></div><div class=\"sk-container\" hidden><div class=\"sk-item\"><div class=\"sk-estimator sk-toggleable\"><input class=\"sk-toggleable__control sk-hidden--visually\" id=\"sk-estimator-id-4\" type=\"checkbox\" checked><label for=\"sk-estimator-id-4\" class=\"sk-toggleable__label sk-toggleable__label-arrow\">SVC</label><div class=\"sk-toggleable__content\"><pre>SVC()</pre></div></div></div></div></div>"
      ],
      "text/plain": [
       "SVC()"
      ]
     },
     "execution_count": 65,
     "metadata": {},
     "output_type": "execute_result"
    }
   ],
   "source": [
    "# Train the SVM model\n",
    "svm_model.fit(X_train, y_train)"
   ]
  },
  {
   "cell_type": "code",
   "execution_count": 66,
   "id": "b22a1e9c",
   "metadata": {},
   "outputs": [
    {
     "data": {
      "text/plain": [
       "0.9252450980392157"
      ]
     },
     "execution_count": 66,
     "metadata": {},
     "output_type": "execute_result"
    }
   ],
   "source": [
    "# Evaluate the model on the testing set\n",
    "accuracy = svm_model.score(X_test, y_test)\n",
    "accuracy"
   ]
  },
  {
   "cell_type": "code",
   "execution_count": 67,
   "id": "94635716",
   "metadata": {},
   "outputs": [],
   "source": [
    "import time\n",
    "from sklearn.metrics import confusion_matrix, accuracy_score, precision_score, recall_score, f1_score\n",
    "\n"
   ]
  },
  {
   "cell_type": "code",
   "execution_count": 68,
   "id": "b54f8e6e",
   "metadata": {},
   "outputs": [],
   "source": [
    "# Start the training time measurement\n",
    "start_time = time.time()\n",
    "\n"
   ]
  },
  {
   "cell_type": "code",
   "execution_count": 69,
   "id": "7f30d6bc",
   "metadata": {},
   "outputs": [
    {
     "data": {
      "text/html": [
       "<style>#sk-container-id-5 {color: black;background-color: white;}#sk-container-id-5 pre{padding: 0;}#sk-container-id-5 div.sk-toggleable {background-color: white;}#sk-container-id-5 label.sk-toggleable__label {cursor: pointer;display: block;width: 100%;margin-bottom: 0;padding: 0.3em;box-sizing: border-box;text-align: center;}#sk-container-id-5 label.sk-toggleable__label-arrow:before {content: \"▸\";float: left;margin-right: 0.25em;color: #696969;}#sk-container-id-5 label.sk-toggleable__label-arrow:hover:before {color: black;}#sk-container-id-5 div.sk-estimator:hover label.sk-toggleable__label-arrow:before {color: black;}#sk-container-id-5 div.sk-toggleable__content {max-height: 0;max-width: 0;overflow: hidden;text-align: left;background-color: #f0f8ff;}#sk-container-id-5 div.sk-toggleable__content pre {margin: 0.2em;color: black;border-radius: 0.25em;background-color: #f0f8ff;}#sk-container-id-5 input.sk-toggleable__control:checked~div.sk-toggleable__content {max-height: 200px;max-width: 100%;overflow: auto;}#sk-container-id-5 input.sk-toggleable__control:checked~label.sk-toggleable__label-arrow:before {content: \"▾\";}#sk-container-id-5 div.sk-estimator input.sk-toggleable__control:checked~label.sk-toggleable__label {background-color: #d4ebff;}#sk-container-id-5 div.sk-label input.sk-toggleable__control:checked~label.sk-toggleable__label {background-color: #d4ebff;}#sk-container-id-5 input.sk-hidden--visually {border: 0;clip: rect(1px 1px 1px 1px);clip: rect(1px, 1px, 1px, 1px);height: 1px;margin: -1px;overflow: hidden;padding: 0;position: absolute;width: 1px;}#sk-container-id-5 div.sk-estimator {font-family: monospace;background-color: #f0f8ff;border: 1px dotted black;border-radius: 0.25em;box-sizing: border-box;margin-bottom: 0.5em;}#sk-container-id-5 div.sk-estimator:hover {background-color: #d4ebff;}#sk-container-id-5 div.sk-parallel-item::after {content: \"\";width: 100%;border-bottom: 1px solid gray;flex-grow: 1;}#sk-container-id-5 div.sk-label:hover label.sk-toggleable__label {background-color: #d4ebff;}#sk-container-id-5 div.sk-serial::before {content: \"\";position: absolute;border-left: 1px solid gray;box-sizing: border-box;top: 0;bottom: 0;left: 50%;z-index: 0;}#sk-container-id-5 div.sk-serial {display: flex;flex-direction: column;align-items: center;background-color: white;padding-right: 0.2em;padding-left: 0.2em;position: relative;}#sk-container-id-5 div.sk-item {position: relative;z-index: 1;}#sk-container-id-5 div.sk-parallel {display: flex;align-items: stretch;justify-content: center;background-color: white;position: relative;}#sk-container-id-5 div.sk-item::before, #sk-container-id-5 div.sk-parallel-item::before {content: \"\";position: absolute;border-left: 1px solid gray;box-sizing: border-box;top: 0;bottom: 0;left: 50%;z-index: -1;}#sk-container-id-5 div.sk-parallel-item {display: flex;flex-direction: column;z-index: 1;position: relative;background-color: white;}#sk-container-id-5 div.sk-parallel-item:first-child::after {align-self: flex-end;width: 50%;}#sk-container-id-5 div.sk-parallel-item:last-child::after {align-self: flex-start;width: 50%;}#sk-container-id-5 div.sk-parallel-item:only-child::after {width: 0;}#sk-container-id-5 div.sk-dashed-wrapped {border: 1px dashed gray;margin: 0 0.4em 0.5em 0.4em;box-sizing: border-box;padding-bottom: 0.4em;background-color: white;}#sk-container-id-5 div.sk-label label {font-family: monospace;font-weight: bold;display: inline-block;line-height: 1.2em;}#sk-container-id-5 div.sk-label-container {text-align: center;}#sk-container-id-5 div.sk-container {/* jupyter's `normalize.less` sets `[hidden] { display: none; }` but bootstrap.min.css set `[hidden] { display: none !important; }` so we also need the `!important` here to be able to override the default hidden behavior on the sphinx rendered scikit-learn.org. See: https://github.com/scikit-learn/scikit-learn/issues/21755 */display: inline-block !important;position: relative;}#sk-container-id-5 div.sk-text-repr-fallback {display: none;}</style><div id=\"sk-container-id-5\" class=\"sk-top-container\"><div class=\"sk-text-repr-fallback\"><pre>SVC()</pre><b>In a Jupyter environment, please rerun this cell to show the HTML representation or trust the notebook. <br />On GitHub, the HTML representation is unable to render, please try loading this page with nbviewer.org.</b></div><div class=\"sk-container\" hidden><div class=\"sk-item\"><div class=\"sk-estimator sk-toggleable\"><input class=\"sk-toggleable__control sk-hidden--visually\" id=\"sk-estimator-id-5\" type=\"checkbox\" checked><label for=\"sk-estimator-id-5\" class=\"sk-toggleable__label sk-toggleable__label-arrow\">SVC</label><div class=\"sk-toggleable__content\"><pre>SVC()</pre></div></div></div></div></div>"
      ],
      "text/plain": [
       "SVC()"
      ]
     },
     "execution_count": 69,
     "metadata": {},
     "output_type": "execute_result"
    }
   ],
   "source": [
    "# Train the SVM model\n",
    "svm_model.fit(X_train, y_train)"
   ]
  },
  {
   "cell_type": "code",
   "execution_count": 70,
   "id": "305cd45e",
   "metadata": {},
   "outputs": [],
   "source": [
    "# Calculate the training time\n",
    "training_time = time.time() - start_time"
   ]
  },
  {
   "cell_type": "code",
   "execution_count": 71,
   "id": "b08fbe76",
   "metadata": {},
   "outputs": [],
   "source": [
    "# Predictions for the testing set\n",
    "y_pred = svm_model.predict(X_test)"
   ]
  },
  {
   "cell_type": "code",
   "execution_count": 72,
   "id": "cd0ef40e",
   "metadata": {},
   "outputs": [],
   "source": [
    "# Confusion matrix\n",
    "conf_matrix = confusion_matrix(y_test, y_pred)"
   ]
  },
  {
   "cell_type": "code",
   "execution_count": 73,
   "id": "3d8253cc",
   "metadata": {},
   "outputs": [],
   "source": [
    "# Performance metrics\n",
    "accuracy = accuracy_score(y_test, y_pred)\n",
    "precision = precision_score(y_test, y_pred)\n",
    "recall = recall_score(y_test, y_pred)\n",
    "f1 = f1_score(y_test, y_pred)"
   ]
  },
  {
   "cell_type": "code",
   "execution_count": 74,
   "id": "1ac16652",
   "metadata": {},
   "outputs": [],
   "source": [
    "# Extracting True Positives (TP) and False Positives (FP) from the confusion matrix\n",
    "TP = conf_matrix[1, 1]\n",
    "FP = conf_matrix[0, 1]"
   ]
  },
  {
   "cell_type": "code",
   "execution_count": 75,
   "id": "bb99cbec",
   "metadata": {
    "scrolled": true
   },
   "outputs": [
    {
     "name": "stdout",
     "output_type": "stream",
     "text": [
      "SVM Model Performance Evaluation\n",
      "===================================\n",
      "Training Time: 3.200 seconds\n",
      "Accuracy: 92.52%\n",
      "Precision: 96.74%\n",
      "Recall: 42.79%\n",
      "F1 Score: 0.59\n",
      "True Positives (TP): 178\n",
      "False Positives (FP): 6\n",
      "Confusion Matrix:\n",
      "[[2842    6]\n",
      " [ 238  178]]\n",
      "===================================\n"
     ]
    }
   ],
   "source": [
    "# Printing the results\n",
    "print(\"SVM Model Performance Evaluation\")\n",
    "print(\"===================================\")\n",
    "print(f\"Training Time: {training_time:.3f} seconds\")\n",
    "print(f\"Accuracy: {accuracy * 100:.2f}%\")\n",
    "print(f\"Precision: {precision * 100:.2f}%\")\n",
    "print(f\"Recall: {recall * 100:.2f}%\")\n",
    "print(f\"F1 Score: {f1:.2f}\")\n",
    "print(f\"True Positives (TP): {TP}\")\n",
    "print(f\"False Positives (FP): {FP}\")\n",
    "print(\"Confusion Matrix:\")\n",
    "print(conf_matrix)\n",
    "print(\"===================================\")"
   ]
  },
  {
   "cell_type": "code",
   "execution_count": 76,
   "id": "ed18e28c",
   "metadata": {},
   "outputs": [
    {
     "data": {
      "image/png": "[encoded data removed]",
      "text/plain": [
       "<Figure size 800x600 with 2 Axes>"
      ]
     },
     "metadata": {},
     "output_type": "display_data"
    }
   ],
   "source": [
    "import numpy as np\n",
    "import matplotlib.pyplot as plt\n",
    "import seaborn as sns\n",
    "from sklearn.metrics import confusion_matrix\n",
    "\n",
    "def plot_confusion_matrix(cm, classes, title='Confusion matrix', cmap=plt.cm.Blues):\n",
    "    \"\"\"\n",
    "    This function prints and plots the confusion matrix.\n",
    "    \"\"\"\n",
    "    plt.figure(figsize=(8, 6))\n",
    "    sns.heatmap(cm, annot=True, fmt=\"d\", linewidths=.5, cmap=cmap, xticklabels=classes, yticklabels=classes)\n",
    "    plt.ylabel('True label')\n",
    "    plt.xlabel('Predicted label')\n",
    "    plt.title(title)\n",
    "    plt.show()\n",
    "\n",
    "# Define the confusion matrix data and class labels\n",
    "conf_matrix = np.array([[2842,6],[238,178]])\n",
    "class_names = ['Normal', 'Attack']\n",
    "\n",
    "# Call the function with the confusion matrix\n",
    "plot_confusion_matrix(conf_matrix, classes=class_names, title='SVM Confusion Matrix')"
   ]
  },
  {
   "cell_type": "code",
   "execution_count": 77,
   "id": "a0985df5",
   "metadata": {},
   "outputs": [],
   "source": [
    "import numpy as np\n",
    "import matplotlib.pyplot as plt\n",
    "import seaborn as sns\n",
    "from sklearn.metrics import confusion_matrix"
   ]
  },
  {
   "cell_type": "code",
   "execution_count": 78,
   "id": "84c3c8ca",
   "metadata": {},
   "outputs": [
    {
     "data": {
      "image/png": "[encoded data removed]",
      "text/plain": [
       "<Figure size 640x480 with 1 Axes>"
      ]
     },
     "metadata": {},
     "output_type": "display_data"
    },
    {
     "data": {
      "image/png": "[encoded data removed]",
      "text/plain": [
       "<Figure size 640x480 with 1 Axes>"
      ]
     },
     "metadata": {},
     "output_type": "display_data"
    }
   ],
   "source": [
    "import matplotlib.pyplot as plt\n",
    "\n",
    "# Metrics Data\n",
    "metrics = {\n",
    "    'Accuracy': 0.925,\n",
    "    'Precision': 0.967,\n",
    "    'Recall': 0.427,\n",
    "    'F1 Score': 0.59\n",
    "}\n",
    "\n",
    "# Confusion Matrix Data\n",
    "conf_matrix = {\n",
    "    'True Positives': 2842,\n",
    "    'False Positives': 6,\n",
    "    'True Negatives': 238,\n",
    "    'False Negatives': 178\n",
    "}\n",
    "\n",
    "# Function to plot metrics as bar chart with percentage values\n",
    "def plot_metrics_bar_chart(metrics):\n",
    "    fig, ax = plt.subplots()\n",
    "    bars = ax.bar(metrics.keys(), metrics.values(), color=['blue', 'green', 'red', 'purple'])\n",
    "    ax.set_ylabel('Scores')\n",
    "    ax.set_title('Model Performance Metrics')\n",
    "    plt.ylim([0, 1])  # Assuming metrics are normalized between 0 and 1\n",
    "\n",
    "    # Add value labels on top of each bar\n",
    "    for bar in bars:\n",
    "        yval = bar.get_height()\n",
    "        ax.text(bar.get_x() + bar.get_width()/2, yval, f'{yval:.2%}', ha='center', va='bottom', color='black', fontweight='bold')\n",
    "\n",
    "    plt.show()\n",
    "\n",
    "# Function to plot confusion matrix as pie chart\n",
    "def plot_confusion_matrix_pie_chart(conf_matrix):\n",
    "    fig, ax = plt.subplots()\n",
    "    ax.pie(conf_matrix.values(), labels=conf_matrix.keys(), autopct='%1.1f%%', startangle=90, colors=['lime', 'red', 'green', 'orange'])\n",
    "    ax.axis('equal')  # Equal aspect ratio ensures that pie is drawn as a circle.\n",
    "    ax.set_title('Confusion Matrix Distribution')\n",
    "    plt.show()\n",
    "\n",
    "# Plotting the metrics bar chart\n",
    "plot_metrics_bar_chart(metrics)\n",
    "\n",
    "# Plotting the confusion matrix pie chart\n",
    "plot_confusion_matrix_pie_chart(conf_matrix)"
   ]
  },
  {
   "cell_type": "code",
   "execution_count": null,
   "id": "7f6a407a",
   "metadata": {},
   "outputs": [],
   "source": []
  },
  {
   "cell_type": "code",
   "execution_count": null,
   "id": "05f7221c",
   "metadata": {},
   "outputs": [],
   "source": []
  },
  {
   "cell_type": "code",
   "execution_count": null,
   "id": "988068a5",
   "metadata": {},
   "outputs": [],
   "source": []
  },
  {
   "cell_type": "code",
   "execution_count": null,
   "id": "0725718e",
   "metadata": {},
   "outputs": [],
   "source": []
  }
 ],
 "metadata": {
  "kernelspec": {
   "display_name": "Python 3 (ipykernel)",
   "language": "python",
   "name": "python3"
  },
  "language_info": {
   "codemirror_mode": {
    "name": "ipython",
    "version": 3
   },
   "file_extension": ".py",
   "mimetype": "text/x-python",
   "name": "python",
   "nbconvert_exporter": "python",
   "pygments_lexer": "ipython3",
   "version": "3.11.7"
  },
  "widgets": {
   "application/vnd.jupyter.widget-state+json": {
    "state": {},
    "version_major": 2,
    "version_minor": 0
   }
  }
 },
 "nbformat": 4,
 "nbformat_minor": 5
}
